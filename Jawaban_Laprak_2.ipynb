{
 "cells": [
  {
   "cell_type": "code",
   "execution_count": null,
   "metadata": {},
   "outputs": [],
   "source": [
    "tinggi = float(input(\"Masukan Tinggi Badan Anda (CM): \"))\n",
    "berat = float(input(\"Masukan Berat Badan Anda (KG): \"))\n",
    "\n",
    "tinggi = tinggi / 100\n",
    "rumus = berat / (tinggi**2)\n",
    "\n",
    "print(f\"Target yang harus dicapai: {int(rumus)} KG\")"
   ]
  }
 ],
 "metadata": {
  "kernelspec": {
   "display_name": "Python 3",
   "language": "python",
   "name": "python3"
  },
  "language_info": {
   "name": "python",
   "version": "3.12.0"
  }
 },
 "nbformat": 4,
 "nbformat_minor": 2
}
