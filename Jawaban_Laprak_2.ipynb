{
 "cells": [
  {
   "cell_type": "code",
   "execution_count": 2,
   "metadata": {},
   "outputs": [
    {
     "name": "stdout",
     "output_type": "stream",
     "text": [
      "Target Berat Yang Harus Dicapai: 3.0864197530864197 KG\n"
     ]
    }
   ],
   "source": [
    "tinggi = float(input(\"Masukan Tinggi Badan Anda (CM): \"))\n",
    "bmi = float(input(\"Masukan BMI Yang Anda Inginkan (KG): \"))\n",
    "\n",
    "tinggi = tinggi / 100\n",
    "rumus = bmi / (tinggi**2)\n",
    "\n",
    "print(f'Target Berat Yang Harus Dicapai:', float(rumus), \"KG\")"
   ]
  },
  {
   "cell_type": "code",
   "execution_count": 3,
   "metadata": {},
   "outputs": [
    {
     "name": "stdout",
     "output_type": "stream",
     "text": [
      "Hasil fungsinya adalah 27.5\n"
     ]
    }
   ],
   "source": [
    "data = int(input(\"Masukan Nilai X : \"))\n",
    "\n",
    "rumus = (2 * data**3) + (2 * data) + (15 / data)\n",
    "\n",
    "print(f\"Hasil fungsinya adalah\", float(rumus))"
   ]
  },
  {
   "cell_type": "code",
   "execution_count": 1,
   "metadata": {},
   "outputs": [
    {
     "name": "stdout",
     "output_type": "stream",
     "text": [
      "1. Pendapatan Budi Selama Musim Panas adalah Rp. 5000000\n",
      "2. Pendapatan Budi Selama Musim Panas setelah membayar pajak adalah Rp. 4300000\n",
      "3. Uang yang digunakan Budi untuk membeli pakaian dan aksesoris adalah Rp. 430000\n",
      "4. Uang yang digunakan Budi untuk membeli Alat Tulis adalah Rp. 43000\n",
      "5. Uang yang akan disedekahkan Budi adalah Rp. 956750\n",
      "6. Uang yang diterima anak yatim adalah RP. 287025\n",
      "7. Uang yang diterima kaum dhuafa adalah Rp. 669725\n"
     ]
    }
   ],
   "source": [
    "waktu = 5\n",
    "pajak = 0.14\n",
    "baju = 0.10\n",
    "alat_tulis = 0.01\n",
    "sedekah = 0.25\n",
    "sedekah_seribu = 0.30\n",
    "\n",
    "gaji = int(input(\"Masukan Gaji Yang Anda Inginkan (per jam) : \"))\n",
    "jam_kerja = int(input(\"Masukan Jam Kerja (per minggu) : \"))\n",
    "\n",
    "rumus_gaji = gaji * (jam_kerja * waktu)\n",
    "rumus_sesudah_pajak = rumus_gaji - (int(rumus_gaji * pajak))\n",
    "rumus_baju = int(rumus_sesudah_pajak * baju)\n",
    "uang1 = rumus_sesudah_pajak - rumus_baju\n",
    "rumus_alattulis = int(rumus_sesudah_pajak *alat_tulis)\n",
    "uang2 = uang1 - rumus_alattulis\n",
    "rumus_uang_sedekah = int(uang2 * sedekah)\n",
    "uang3 = uang2 - rumus_uang_sedekah\n",
    "rumus_anak = int(rumus_uang_sedekah * sedekah_seribu)\n",
    "uang4 = uang3 - rumus_anak\n",
    "rumus_dhuafa = int(rumus_uang_sedekah - rumus_anak)\n",
    "\n",
    "sebelum_pajak = print(f\"1. Pendapatan Budi Selama Musim Panas adalah Rp.\", rumus_gaji)\n",
    "sesudah_pajak = print(f\"2. Pendapatan Budi Selama Musim Panas setelah membayar pajak adalah Rp.\", rumus_sesudah_pajak)\n",
    "uang_baju = print(f\"3. Uang yang digunakan Budi untuk membeli pakaian dan aksesoris adalah Rp.\", rumus_baju)\n",
    "uang_alattulis = print(f\"4. Uang yang digunakan Budi untuk membeli Alat Tulis adalah Rp.\", rumus_alattulis)\n",
    "uang_sedekah = print(f\"5. Uang yang akan disedekahkan Budi adalah Rp.\", rumus_uang_sedekah)\n",
    "uang_anak_yatim = print(f\"6. Uang yang diterima anak yatim adalah RP.\", rumus_anak)\n",
    "uang_kaum_dhafa = print(f\"7. Uang yang diterima kaum dhuafa adalah Rp.\", rumus_dhuafa)"
   ]
  }
 ],
 "metadata": {
  "kernelspec": {
   "display_name": "Python 3",
   "language": "python",
   "name": "python3"
  },
  "language_info": {
   "codemirror_mode": {
    "name": "ipython",
    "version": 3
   },
   "file_extension": ".py",
   "mimetype": "text/x-python",
   "name": "python",
   "nbconvert_exporter": "python",
   "pygments_lexer": "ipython3",
   "version": "3.12.0"
  }
 },
 "nbformat": 4,
 "nbformat_minor": 2
}
